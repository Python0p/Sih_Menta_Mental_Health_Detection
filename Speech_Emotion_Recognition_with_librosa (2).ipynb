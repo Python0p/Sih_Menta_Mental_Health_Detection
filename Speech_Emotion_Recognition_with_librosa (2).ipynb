{
  "nbformat": 4,
  "nbformat_minor": 0,
  "metadata": {
    "colab": {
      "provenance": []
    },
    "kernelspec": {
      "name": "python3",
      "display_name": "Python 3"
    },
    "language_info": {
      "name": "python"
    }
  },
  "cells": [
    {
      "cell_type": "markdown",
      "metadata": {
        "id": "wd1zknE2IRew"
      },
      "source": [
        "\n",
        "[Dataset](https://drive.google.com/file/d/1wWsrN2Ep7x6lWqOXfr4rpKGYrJhWc8z7/view)"
      ]
    },
    {
      "cell_type": "code",
      "source": [
        "/content/drive/MyDrive/Colab Notebooks/speech-emotion-recognition-ravdess-data"
      ],
      "metadata": {
        "id": "MigHtV3Hbyoe"
      },
      "execution_count": null,
      "outputs": []
    },
    {
      "cell_type": "code",
      "metadata": {
        "id": "4CKPHhxqoeid"
      },
      "source": [
        "import os\n",
        "Root = \"/content/drive/MyDrive/Colab Notebooks/speech-emotion-recognition-ravdess-data\"\n",
        "os.chdir(Root)"
      ],
      "execution_count": 2,
      "outputs": []
    },
    {
      "cell_type": "code",
      "metadata": {
        "colab": {
          "base_uri": "https://localhost:8080/"
        },
        "id": "CHlkrPZPpXlI",
        "outputId": "49568937-03de-49e8-8831-3861c4267fa1"
      },
      "source": [
        "ls"
      ],
      "execution_count": 3,
      "outputs": [
        {
          "output_type": "stream",
          "name": "stdout",
          "text": [
            "\u001b[0m\u001b[01;34mActor_01\u001b[0m/  \u001b[01;34mActor_06\u001b[0m/  \u001b[01;34mActor_11\u001b[0m/  \u001b[01;34mActor_16\u001b[0m/  \u001b[01;34mActor_21\u001b[0m/\n",
            "\u001b[01;34mActor_02\u001b[0m/  \u001b[01;34mActor_07\u001b[0m/  \u001b[01;34mActor_12\u001b[0m/  \u001b[01;34mActor_17\u001b[0m/  \u001b[01;34mActor_22\u001b[0m/\n",
            "\u001b[01;34mActor_03\u001b[0m/  \u001b[01;34mActor_08\u001b[0m/  \u001b[01;34mActor_13\u001b[0m/  \u001b[01;34mActor_18\u001b[0m/  \u001b[01;34mActor_23\u001b[0m/\n",
            "\u001b[01;34mActor_04\u001b[0m/  \u001b[01;34mActor_09\u001b[0m/  \u001b[01;34mActor_14\u001b[0m/  \u001b[01;34mActor_19\u001b[0m/  \u001b[01;34mActor_24\u001b[0m/\n",
            "\u001b[01;34mActor_05\u001b[0m/  \u001b[01;34mActor_10\u001b[0m/  \u001b[01;34mActor_15\u001b[0m/  \u001b[01;34mActor_20\u001b[0m/  modelForPrediction1.sav\n"
          ]
        }
      ]
    },
    {
      "cell_type": "code",
      "metadata": {
        "id": "_IehQoF0pZxl"
      },
      "source": [
        "import librosa\n",
        "import soundfile\n",
        "import os, glob, pickle\n",
        "import numpy as np\n",
        "from sklearn.model_selection import train_test_split\n",
        "from sklearn.neural_network import MLPClassifier\n",
        "from sklearn.metrics import accuracy_score"
      ],
      "execution_count": 4,
      "outputs": []
    },
    {
      "cell_type": "code",
      "metadata": {
        "id": "cOrKu9Cnphen"
      },
      "source": [
        "#Extract features (mfcc, chroma, mel) from a sound file\n",
        "def extract_feature(file_name, mfcc, chroma, mel):\n",
        "    with soundfile.SoundFile(file_name) as sound_file:\n",
        "        X = sound_file.read(dtype=\"float32\")\n",
        "        sample_rate=sound_file.samplerate\n",
        "        if chroma:\n",
        "            stft=np.abs(librosa.stft(X))\n",
        "        result=np.array([])\n",
        "        if mfcc:\n",
        "            mfccs=np.mean(librosa.feature.mfcc(y=X, sr=sample_rate, n_mfcc=40).T, axis=0)\n",
        "            result=np.hstack((result, mfccs))\n",
        "        if chroma:\n",
        "            chroma=np.mean(librosa.feature.chroma_stft(S=stft, sr=sample_rate).T,axis=0)\n",
        "            result=np.hstack((result, chroma))\n",
        "        if mel:\n",
        "            mel=np.mean(librosa.feature.melspectrogram(y=X, sr=sample_rate).T,axis=0)\n",
        "            result=np.hstack((result, mel))\n",
        "    return result"
      ],
      "execution_count": 9,
      "outputs": []
    },
    {
      "cell_type": "code",
      "metadata": {
        "id": "ljV0QLcXpmRP"
      },
      "source": [
        "# Emotions in the RAVDESS dataset\n",
        "emotions={\n",
        "  '01':'neutral',\n",
        "  '02':'calm',\n",
        "  '03':'happy',\n",
        "  '04':'sad',\n",
        "  '05':'angry',\n",
        "  '06':'fearful',\n",
        "  '07':'disgust',\n",
        "  '08':'surprised'\n",
        "}\n",
        "\n",
        "#Emotions to observe\n",
        "observed_emotions=['sad', 'fearful', 'calm', 'happy']"
      ],
      "execution_count": 103,
      "outputs": []
    },
    {
      "cell_type": "code",
      "metadata": {
        "id": "O46uIg3kpzrG"
      },
      "source": [
        "#Load the data and extract features for each sound file\n",
        "def load_data(test_size=0.2):\n",
        "    x,y=[],[]\n",
        "    for file in glob.glob(\"/content/drive/MyDrive/Colab Notebooks/speech-emotion-recognition-ravdess-data/Actor_*/*.wav\"):\n",
        "        file_name=os.path.basename(file)\n",
        "        emotion=emotions[file_name.split(\"-\")[2]]\n",
        "        if emotion not in observed_emotions:\n",
        "            continue\n",
        "        feature=extract_feature(file, mfcc=True, chroma=True, mel=True)\n",
        "        x.append(feature)\n",
        "        y.append(emotion)\n",
        "    return train_test_split(np.array(x), y, test_size=test_size, random_state=9)"
      ],
      "execution_count": 77,
      "outputs": []
    },
    {
      "cell_type": "code",
      "metadata": {
        "id": "gE_MSQYDqPqg"
      },
      "source": [
        "#Split the dataset\n",
        "x_train,x_test,y_train,y_test=load_data(test_size=0.25)"
      ],
      "execution_count": 104,
      "outputs": []
    },
    {
      "cell_type": "code",
      "metadata": {
        "colab": {
          "base_uri": "https://localhost:8080/"
        },
        "id": "Fo872mW8urUM",
        "outputId": "61df4d9f-f537-4c74-e169-afd946a22c1e"
      },
      "source": [
        "x_train"
      ],
      "execution_count": 79,
      "outputs": [
        {
          "output_type": "execute_result",
          "data": {
            "text/plain": [
              "array([[-5.17965454e+02,  3.71398888e+01, -1.56945620e+01, ...,\n",
              "         1.15746152e-04,  8.88544237e-05,  4.30482214e-05],\n",
              "       [-6.35324280e+02,  5.15364532e+01,  2.86708784e+00, ...,\n",
              "         1.64853787e-04,  1.09570530e-04,  8.09854173e-05],\n",
              "       [-5.59538025e+02,  5.10846329e+01, -5.12032223e+00, ...,\n",
              "         5.24717798e-05,  3.66673994e-05,  1.29582568e-05],\n",
              "       ...,\n",
              "       [-5.35107422e+02,  3.43586006e+01, -7.32960510e+00, ...,\n",
              "         1.08357584e-04,  5.78423569e-05,  4.58427166e-05],\n",
              "       [-5.17661743e+02,  4.90717125e+01, -7.92283487e+00, ...,\n",
              "         5.29468052e-05,  4.08347332e-05,  1.58430666e-05],\n",
              "       [-6.01385986e+02,  6.33781929e+01, -1.15760441e+01, ...,\n",
              "         7.30556485e-06,  4.64438199e-06,  1.78243295e-06]])"
            ]
          },
          "metadata": {},
          "execution_count": 79
        }
      ]
    },
    {
      "cell_type": "code",
      "source": [
        "from google.colab import drive\n",
        "drive.mount('/content/drive')"
      ],
      "metadata": {
        "colab": {
          "base_uri": "https://localhost:8080/"
        },
        "id": "pQ-N1rM-bcgO",
        "outputId": "9baf7f5b-6dbd-499e-e2bb-f08540802898"
      },
      "execution_count": 1,
      "outputs": [
        {
          "output_type": "stream",
          "name": "stdout",
          "text": [
            "Mounted at /content/drive\n"
          ]
        }
      ]
    },
    {
      "cell_type": "code",
      "metadata": {
        "colab": {
          "base_uri": "https://localhost:8080/"
        },
        "id": "cNIOCRQ6qWOq",
        "outputId": "435bcfe9-b5e5-4808-a7d7-502c81c6e5ff"
      },
      "source": [
        "#Get the shape of the training and testing datasets\n",
        "print((x_train.shape[0], x_test.shape[0]))"
      ],
      "execution_count": 105,
      "outputs": [
        {
          "output_type": "stream",
          "name": "stdout",
          "text": [
            "(576, 192)\n"
          ]
        }
      ]
    },
    {
      "cell_type": "code",
      "metadata": {
        "colab": {
          "base_uri": "https://localhost:8080/"
        },
        "id": "XqoLMHgsqcP8",
        "outputId": "c37719c1-5099-4e95-f74e-38c3defda3b9"
      },
      "source": [
        "#Get the number of features extracted\n",
        "print(f'Features extracted: {x_train.shape[1]}')"
      ],
      "execution_count": 106,
      "outputs": [
        {
          "output_type": "stream",
          "name": "stdout",
          "text": [
            "Features extracted: 180\n"
          ]
        }
      ]
    },
    {
      "cell_type": "code",
      "metadata": {
        "id": "bQsjvZiwqcTN"
      },
      "source": [
        "#Initialize the Multi Layer Perceptron Classifier\n",
        "model=MLPClassifier(alpha=0.01, batch_size=256, epsilon=1e-08, hidden_layer_sizes=(300,), learning_rate='adaptive', max_iter=500)"
      ],
      "execution_count": 123,
      "outputs": []
    },
    {
      "cell_type": "code",
      "metadata": {
        "colab": {
          "base_uri": "https://localhost:8080/",
          "height": 92
        },
        "id": "tmZiXDHPqcV5",
        "outputId": "483497b7-af48-47bd-d43d-5b8673ed9f20"
      },
      "source": [
        "#Train the model\n",
        "model.fit(x_train,y_train)"
      ],
      "execution_count": 127,
      "outputs": [
        {
          "output_type": "execute_result",
          "data": {
            "text/plain": [
              "MLPClassifier(alpha=0.01, batch_size=256, hidden_layer_sizes=(300,),\n",
              "              learning_rate='adaptive', max_iter=500)"
            ],
            "text/html": [
              "<style>#sk-container-id-21 {color: black;background-color: white;}#sk-container-id-21 pre{padding: 0;}#sk-container-id-21 div.sk-toggleable {background-color: white;}#sk-container-id-21 label.sk-toggleable__label {cursor: pointer;display: block;width: 100%;margin-bottom: 0;padding: 0.3em;box-sizing: border-box;text-align: center;}#sk-container-id-21 label.sk-toggleable__label-arrow:before {content: \"▸\";float: left;margin-right: 0.25em;color: #696969;}#sk-container-id-21 label.sk-toggleable__label-arrow:hover:before {color: black;}#sk-container-id-21 div.sk-estimator:hover label.sk-toggleable__label-arrow:before {color: black;}#sk-container-id-21 div.sk-toggleable__content {max-height: 0;max-width: 0;overflow: hidden;text-align: left;background-color: #f0f8ff;}#sk-container-id-21 div.sk-toggleable__content pre {margin: 0.2em;color: black;border-radius: 0.25em;background-color: #f0f8ff;}#sk-container-id-21 input.sk-toggleable__control:checked~div.sk-toggleable__content {max-height: 200px;max-width: 100%;overflow: auto;}#sk-container-id-21 input.sk-toggleable__control:checked~label.sk-toggleable__label-arrow:before {content: \"▾\";}#sk-container-id-21 div.sk-estimator input.sk-toggleable__control:checked~label.sk-toggleable__label {background-color: #d4ebff;}#sk-container-id-21 div.sk-label input.sk-toggleable__control:checked~label.sk-toggleable__label {background-color: #d4ebff;}#sk-container-id-21 input.sk-hidden--visually {border: 0;clip: rect(1px 1px 1px 1px);clip: rect(1px, 1px, 1px, 1px);height: 1px;margin: -1px;overflow: hidden;padding: 0;position: absolute;width: 1px;}#sk-container-id-21 div.sk-estimator {font-family: monospace;background-color: #f0f8ff;border: 1px dotted black;border-radius: 0.25em;box-sizing: border-box;margin-bottom: 0.5em;}#sk-container-id-21 div.sk-estimator:hover {background-color: #d4ebff;}#sk-container-id-21 div.sk-parallel-item::after {content: \"\";width: 100%;border-bottom: 1px solid gray;flex-grow: 1;}#sk-container-id-21 div.sk-label:hover label.sk-toggleable__label {background-color: #d4ebff;}#sk-container-id-21 div.sk-serial::before {content: \"\";position: absolute;border-left: 1px solid gray;box-sizing: border-box;top: 0;bottom: 0;left: 50%;z-index: 0;}#sk-container-id-21 div.sk-serial {display: flex;flex-direction: column;align-items: center;background-color: white;padding-right: 0.2em;padding-left: 0.2em;position: relative;}#sk-container-id-21 div.sk-item {position: relative;z-index: 1;}#sk-container-id-21 div.sk-parallel {display: flex;align-items: stretch;justify-content: center;background-color: white;position: relative;}#sk-container-id-21 div.sk-item::before, #sk-container-id-21 div.sk-parallel-item::before {content: \"\";position: absolute;border-left: 1px solid gray;box-sizing: border-box;top: 0;bottom: 0;left: 50%;z-index: -1;}#sk-container-id-21 div.sk-parallel-item {display: flex;flex-direction: column;z-index: 1;position: relative;background-color: white;}#sk-container-id-21 div.sk-parallel-item:first-child::after {align-self: flex-end;width: 50%;}#sk-container-id-21 div.sk-parallel-item:last-child::after {align-self: flex-start;width: 50%;}#sk-container-id-21 div.sk-parallel-item:only-child::after {width: 0;}#sk-container-id-21 div.sk-dashed-wrapped {border: 1px dashed gray;margin: 0 0.4em 0.5em 0.4em;box-sizing: border-box;padding-bottom: 0.4em;background-color: white;}#sk-container-id-21 div.sk-label label {font-family: monospace;font-weight: bold;display: inline-block;line-height: 1.2em;}#sk-container-id-21 div.sk-label-container {text-align: center;}#sk-container-id-21 div.sk-container {/* jupyter's `normalize.less` sets `[hidden] { display: none; }` but bootstrap.min.css set `[hidden] { display: none !important; }` so we also need the `!important` here to be able to override the default hidden behavior on the sphinx rendered scikit-learn.org. See: https://github.com/scikit-learn/scikit-learn/issues/21755 */display: inline-block !important;position: relative;}#sk-container-id-21 div.sk-text-repr-fallback {display: none;}</style><div id=\"sk-container-id-21\" class=\"sk-top-container\"><div class=\"sk-text-repr-fallback\"><pre>MLPClassifier(alpha=0.01, batch_size=256, hidden_layer_sizes=(300,),\n",
              "              learning_rate=&#x27;adaptive&#x27;, max_iter=500)</pre><b>In a Jupyter environment, please rerun this cell to show the HTML representation or trust the notebook. <br />On GitHub, the HTML representation is unable to render, please try loading this page with nbviewer.org.</b></div><div class=\"sk-container\" hidden><div class=\"sk-item\"><div class=\"sk-estimator sk-toggleable\"><input class=\"sk-toggleable__control sk-hidden--visually\" id=\"sk-estimator-id-21\" type=\"checkbox\" checked><label for=\"sk-estimator-id-21\" class=\"sk-toggleable__label sk-toggleable__label-arrow\">MLPClassifier</label><div class=\"sk-toggleable__content\"><pre>MLPClassifier(alpha=0.01, batch_size=256, hidden_layer_sizes=(300,),\n",
              "              learning_rate=&#x27;adaptive&#x27;, max_iter=500)</pre></div></div></div></div></div>"
            ]
          },
          "metadata": {},
          "execution_count": 127
        }
      ]
    },
    {
      "cell_type": "code",
      "metadata": {
        "id": "lumz8vRQqcYs"
      },
      "source": [
        "#Predict for the test set\n",
        "y_pred=model.predict(x_test)"
      ],
      "execution_count": 128,
      "outputs": []
    },
    {
      "cell_type": "code",
      "metadata": {
        "colab": {
          "base_uri": "https://localhost:8080/"
        },
        "id": "m604kmiFtxLP",
        "outputId": "4ccb0747-9069-450f-80ae-724860ee1671"
      },
      "source": [
        "y_pred"
      ],
      "execution_count": 85,
      "outputs": [
        {
          "output_type": "execute_result",
          "data": {
            "text/plain": [
              "array(['calm', 'fearful', 'sad', 'disgust', 'disgust', 'fearful',\n",
              "       'fearful', 'angry', 'happy', 'calm', 'fearful', 'angry', 'disgust',\n",
              "       'fearful', 'fearful', 'disgust', 'fearful', 'angry', 'sad', 'sad',\n",
              "       'angry', 'angry', 'happy', 'calm', 'sad', 'happy', 'sad', 'happy',\n",
              "       'disgust', 'sad', 'sad', 'calm', 'happy', 'angry', 'angry',\n",
              "       'angry', 'calm', 'fearful', 'happy', 'happy', 'fearful', 'happy',\n",
              "       'sad', 'angry', 'happy', 'sad', 'fearful', 'happy', 'sad', 'calm',\n",
              "       'fearful', 'disgust', 'fearful', 'fearful', 'disgust', 'fearful',\n",
              "       'calm', 'sad', 'angry', 'happy', 'angry', 'angry', 'sad',\n",
              "       'fearful', 'fearful', 'fearful', 'fearful', 'angry', 'sad',\n",
              "       'fearful', 'sad', 'angry', 'angry', 'disgust', 'happy', 'fearful',\n",
              "       'sad', 'sad', 'fearful', 'fearful', 'calm', 'disgust', 'disgust',\n",
              "       'disgust', 'calm', 'calm', 'disgust', 'fearful', 'sad', 'fearful',\n",
              "       'fearful', 'angry', 'angry', 'disgust', 'calm', 'angry', 'fearful',\n",
              "       'happy', 'disgust', 'fearful', 'sad', 'calm', 'disgust', 'sad',\n",
              "       'sad', 'sad', 'fearful', 'happy', 'sad', 'happy', 'calm', 'happy',\n",
              "       'fearful', 'angry', 'fearful', 'calm', 'angry', 'happy', 'calm',\n",
              "       'disgust', 'calm', 'happy', 'happy', 'sad', 'angry', 'fearful',\n",
              "       'happy', 'sad', 'sad', 'calm', 'sad', 'fearful', 'happy', 'calm',\n",
              "       'calm', 'sad', 'angry', 'calm', 'fearful', 'sad', 'sad', 'angry',\n",
              "       'calm', 'disgust', 'fearful', 'sad', 'angry', 'fearful', 'calm',\n",
              "       'angry', 'angry', 'calm', 'angry', 'fearful', 'fearful', 'happy',\n",
              "       'angry', 'fearful', 'fearful', 'happy', 'happy', 'fearful', 'sad',\n",
              "       'calm', 'disgust', 'angry', 'angry', 'fearful', 'angry', 'happy',\n",
              "       'calm', 'calm', 'disgust', 'sad', 'sad', 'angry', 'happy', 'sad',\n",
              "       'sad', 'fearful', 'disgust', 'angry', 'fearful', 'disgust',\n",
              "       'disgust', 'calm', 'happy', 'calm', 'calm', 'angry', 'calm',\n",
              "       'angry', 'disgust', 'disgust', 'happy', 'happy', 'sad', 'fearful',\n",
              "       'calm', 'angry', 'angry', 'fearful', 'calm', 'happy', 'disgust',\n",
              "       'disgust', 'fearful', 'disgust', 'sad', 'happy', 'sad', 'sad',\n",
              "       'calm', 'angry', 'sad', 'calm', 'happy', 'happy', 'calm', 'sad',\n",
              "       'disgust', 'fearful', 'angry', 'calm', 'fearful', 'calm', 'sad',\n",
              "       'sad', 'sad', 'happy', 'happy', 'calm', 'calm', 'calm', 'calm',\n",
              "       'happy', 'disgust', 'angry', 'angry', 'fearful', 'fearful', 'sad',\n",
              "       'sad', 'happy', 'disgust', 'disgust', 'disgust', 'fearful', 'sad',\n",
              "       'angry', 'happy', 'fearful', 'calm', 'happy', 'sad', 'angry',\n",
              "       'happy', 'fearful', 'calm', 'fearful', 'fearful', 'fearful',\n",
              "       'angry', 'angry', 'angry', 'angry', 'sad', 'fearful', 'angry',\n",
              "       'fearful', 'angry', 'angry', 'fearful', 'happy', 'happy', 'calm',\n",
              "       'sad', 'disgust', 'sad', 'angry', 'angry', 'sad', 'fearful', 'sad',\n",
              "       'calm', 'fearful', 'disgust', 'sad'], dtype='<U7')"
            ]
          },
          "metadata": {},
          "execution_count": 85
        }
      ]
    },
    {
      "cell_type": "code",
      "metadata": {
        "colab": {
          "base_uri": "https://localhost:8080/"
        },
        "id": "IrCVcauwqkFs",
        "outputId": "ebce7b74-b0b3-4f3a-d35e-6b1a3e4aaae4"
      },
      "source": [
        "#Calculate the accuracy of our model\n",
        "accuracy=accuracy_score(y_true=y_test, y_pred=y_pred)\n",
        "\n",
        "#Print the accuracy\n",
        "print(\"Accuracy: {:.2f}%\".format(accuracy*100))"
      ],
      "execution_count": 129,
      "outputs": [
        {
          "output_type": "stream",
          "name": "stdout",
          "text": [
            "Accuracy: 64.06%\n"
          ]
        }
      ]
    },
    {
      "cell_type": "code",
      "metadata": {
        "id": "vJ8_B3O0qkJG"
      },
      "source": [
        "from sklearn.metrics import accuracy_score, f1_score"
      ],
      "execution_count": 19,
      "outputs": []
    },
    {
      "cell_type": "code",
      "metadata": {
        "colab": {
          "base_uri": "https://localhost:8080/"
        },
        "id": "_Ry4if_sqkLr",
        "outputId": "c6030559-e713-45fc-e448-12c3a16b0f0b"
      },
      "source": [
        "f1_score(y_test, y_pred,average=None)"
      ],
      "execution_count": 130,
      "outputs": [
        {
          "output_type": "execute_result",
          "data": {
            "text/plain": [
              "array([0.60465116, 0.71559633, 0.65753425, 0.5862069 ])"
            ]
          },
          "metadata": {},
          "execution_count": 130
        }
      ]
    },
    {
      "cell_type": "code",
      "metadata": {
        "colab": {
          "base_uri": "https://localhost:8080/",
          "height": 677
        },
        "id": "0Rt9YfZkCO5A",
        "outputId": "8229ea90-51e2-4479-c570-99e9dc51f9cb"
      },
      "source": [
        "import pandas as pd\n",
        "df=pd.DataFrame({'Actual': y_test, 'Predicted':y_pred})\n",
        "df.head(20)"
      ],
      "execution_count": 131,
      "outputs": [
        {
          "output_type": "execute_result",
          "data": {
            "text/plain": [
              "     Actual Predicted\n",
              "0   fearful   fearful\n",
              "1     happy     happy\n",
              "2       sad   fearful\n",
              "3       sad       sad\n",
              "4       sad       sad\n",
              "5       sad       sad\n",
              "6      calm   fearful\n",
              "7     happy       sad\n",
              "8     happy       sad\n",
              "9       sad   fearful\n",
              "10    happy       sad\n",
              "11    happy       sad\n",
              "12    happy     happy\n",
              "13  fearful   fearful\n",
              "14     calm       sad\n",
              "15    happy     happy\n",
              "16     calm       sad\n",
              "17      sad       sad\n",
              "18  fearful   fearful\n",
              "19     calm       sad"
            ],
            "text/html": [
              "\n",
              "  <div id=\"df-d12baadd-5f5d-4970-98fb-d56a4db0a035\" class=\"colab-df-container\">\n",
              "    <div>\n",
              "<style scoped>\n",
              "    .dataframe tbody tr th:only-of-type {\n",
              "        vertical-align: middle;\n",
              "    }\n",
              "\n",
              "    .dataframe tbody tr th {\n",
              "        vertical-align: top;\n",
              "    }\n",
              "\n",
              "    .dataframe thead th {\n",
              "        text-align: right;\n",
              "    }\n",
              "</style>\n",
              "<table border=\"1\" class=\"dataframe\">\n",
              "  <thead>\n",
              "    <tr style=\"text-align: right;\">\n",
              "      <th></th>\n",
              "      <th>Actual</th>\n",
              "      <th>Predicted</th>\n",
              "    </tr>\n",
              "  </thead>\n",
              "  <tbody>\n",
              "    <tr>\n",
              "      <th>0</th>\n",
              "      <td>fearful</td>\n",
              "      <td>fearful</td>\n",
              "    </tr>\n",
              "    <tr>\n",
              "      <th>1</th>\n",
              "      <td>happy</td>\n",
              "      <td>happy</td>\n",
              "    </tr>\n",
              "    <tr>\n",
              "      <th>2</th>\n",
              "      <td>sad</td>\n",
              "      <td>fearful</td>\n",
              "    </tr>\n",
              "    <tr>\n",
              "      <th>3</th>\n",
              "      <td>sad</td>\n",
              "      <td>sad</td>\n",
              "    </tr>\n",
              "    <tr>\n",
              "      <th>4</th>\n",
              "      <td>sad</td>\n",
              "      <td>sad</td>\n",
              "    </tr>\n",
              "    <tr>\n",
              "      <th>5</th>\n",
              "      <td>sad</td>\n",
              "      <td>sad</td>\n",
              "    </tr>\n",
              "    <tr>\n",
              "      <th>6</th>\n",
              "      <td>calm</td>\n",
              "      <td>fearful</td>\n",
              "    </tr>\n",
              "    <tr>\n",
              "      <th>7</th>\n",
              "      <td>happy</td>\n",
              "      <td>sad</td>\n",
              "    </tr>\n",
              "    <tr>\n",
              "      <th>8</th>\n",
              "      <td>happy</td>\n",
              "      <td>sad</td>\n",
              "    </tr>\n",
              "    <tr>\n",
              "      <th>9</th>\n",
              "      <td>sad</td>\n",
              "      <td>fearful</td>\n",
              "    </tr>\n",
              "    <tr>\n",
              "      <th>10</th>\n",
              "      <td>happy</td>\n",
              "      <td>sad</td>\n",
              "    </tr>\n",
              "    <tr>\n",
              "      <th>11</th>\n",
              "      <td>happy</td>\n",
              "      <td>sad</td>\n",
              "    </tr>\n",
              "    <tr>\n",
              "      <th>12</th>\n",
              "      <td>happy</td>\n",
              "      <td>happy</td>\n",
              "    </tr>\n",
              "    <tr>\n",
              "      <th>13</th>\n",
              "      <td>fearful</td>\n",
              "      <td>fearful</td>\n",
              "    </tr>\n",
              "    <tr>\n",
              "      <th>14</th>\n",
              "      <td>calm</td>\n",
              "      <td>sad</td>\n",
              "    </tr>\n",
              "    <tr>\n",
              "      <th>15</th>\n",
              "      <td>happy</td>\n",
              "      <td>happy</td>\n",
              "    </tr>\n",
              "    <tr>\n",
              "      <th>16</th>\n",
              "      <td>calm</td>\n",
              "      <td>sad</td>\n",
              "    </tr>\n",
              "    <tr>\n",
              "      <th>17</th>\n",
              "      <td>sad</td>\n",
              "      <td>sad</td>\n",
              "    </tr>\n",
              "    <tr>\n",
              "      <th>18</th>\n",
              "      <td>fearful</td>\n",
              "      <td>fearful</td>\n",
              "    </tr>\n",
              "    <tr>\n",
              "      <th>19</th>\n",
              "      <td>calm</td>\n",
              "      <td>sad</td>\n",
              "    </tr>\n",
              "  </tbody>\n",
              "</table>\n",
              "</div>\n",
              "    <div class=\"colab-df-buttons\">\n",
              "\n",
              "  <div class=\"colab-df-container\">\n",
              "    <button class=\"colab-df-convert\" onclick=\"convertToInteractive('df-d12baadd-5f5d-4970-98fb-d56a4db0a035')\"\n",
              "            title=\"Convert this dataframe to an interactive table.\"\n",
              "            style=\"display:none;\">\n",
              "\n",
              "  <svg xmlns=\"http://www.w3.org/2000/svg\" height=\"24px\" viewBox=\"0 -960 960 960\">\n",
              "    <path d=\"M120-120v-720h720v720H120Zm60-500h600v-160H180v160Zm220 220h160v-160H400v160Zm0 220h160v-160H400v160ZM180-400h160v-160H180v160Zm440 0h160v-160H620v160ZM180-180h160v-160H180v160Zm440 0h160v-160H620v160Z\"/>\n",
              "  </svg>\n",
              "    </button>\n",
              "\n",
              "  <style>\n",
              "    .colab-df-container {\n",
              "      display:flex;\n",
              "      gap: 12px;\n",
              "    }\n",
              "\n",
              "    .colab-df-convert {\n",
              "      background-color: #E8F0FE;\n",
              "      border: none;\n",
              "      border-radius: 50%;\n",
              "      cursor: pointer;\n",
              "      display: none;\n",
              "      fill: #1967D2;\n",
              "      height: 32px;\n",
              "      padding: 0 0 0 0;\n",
              "      width: 32px;\n",
              "    }\n",
              "\n",
              "    .colab-df-convert:hover {\n",
              "      background-color: #E2EBFA;\n",
              "      box-shadow: 0px 1px 2px rgba(60, 64, 67, 0.3), 0px 1px 3px 1px rgba(60, 64, 67, 0.15);\n",
              "      fill: #174EA6;\n",
              "    }\n",
              "\n",
              "    .colab-df-buttons div {\n",
              "      margin-bottom: 4px;\n",
              "    }\n",
              "\n",
              "    [theme=dark] .colab-df-convert {\n",
              "      background-color: #3B4455;\n",
              "      fill: #D2E3FC;\n",
              "    }\n",
              "\n",
              "    [theme=dark] .colab-df-convert:hover {\n",
              "      background-color: #434B5C;\n",
              "      box-shadow: 0px 1px 3px 1px rgba(0, 0, 0, 0.15);\n",
              "      filter: drop-shadow(0px 1px 2px rgba(0, 0, 0, 0.3));\n",
              "      fill: #FFFFFF;\n",
              "    }\n",
              "  </style>\n",
              "\n",
              "    <script>\n",
              "      const buttonEl =\n",
              "        document.querySelector('#df-d12baadd-5f5d-4970-98fb-d56a4db0a035 button.colab-df-convert');\n",
              "      buttonEl.style.display =\n",
              "        google.colab.kernel.accessAllowed ? 'block' : 'none';\n",
              "\n",
              "      async function convertToInteractive(key) {\n",
              "        const element = document.querySelector('#df-d12baadd-5f5d-4970-98fb-d56a4db0a035');\n",
              "        const dataTable =\n",
              "          await google.colab.kernel.invokeFunction('convertToInteractive',\n",
              "                                                    [key], {});\n",
              "        if (!dataTable) return;\n",
              "\n",
              "        const docLinkHtml = 'Like what you see? Visit the ' +\n",
              "          '<a target=\"_blank\" href=https://colab.research.google.com/notebooks/data_table.ipynb>data table notebook</a>'\n",
              "          + ' to learn more about interactive tables.';\n",
              "        element.innerHTML = '';\n",
              "        dataTable['output_type'] = 'display_data';\n",
              "        await google.colab.output.renderOutput(dataTable, element);\n",
              "        const docLink = document.createElement('div');\n",
              "        docLink.innerHTML = docLinkHtml;\n",
              "        element.appendChild(docLink);\n",
              "      }\n",
              "    </script>\n",
              "  </div>\n",
              "\n",
              "\n",
              "<div id=\"df-eb8b3930-032b-4f18-aef7-07f14b3cef0b\">\n",
              "  <button class=\"colab-df-quickchart\" onclick=\"quickchart('df-eb8b3930-032b-4f18-aef7-07f14b3cef0b')\"\n",
              "            title=\"Suggest charts.\"\n",
              "            style=\"display:none;\">\n",
              "\n",
              "<svg xmlns=\"http://www.w3.org/2000/svg\" height=\"24px\"viewBox=\"0 0 24 24\"\n",
              "     width=\"24px\">\n",
              "    <g>\n",
              "        <path d=\"M19 3H5c-1.1 0-2 .9-2 2v14c0 1.1.9 2 2 2h14c1.1 0 2-.9 2-2V5c0-1.1-.9-2-2-2zM9 17H7v-7h2v7zm4 0h-2V7h2v10zm4 0h-2v-4h2v4z\"/>\n",
              "    </g>\n",
              "</svg>\n",
              "  </button>\n",
              "\n",
              "<style>\n",
              "  .colab-df-quickchart {\n",
              "      --bg-color: #E8F0FE;\n",
              "      --fill-color: #1967D2;\n",
              "      --hover-bg-color: #E2EBFA;\n",
              "      --hover-fill-color: #174EA6;\n",
              "      --disabled-fill-color: #AAA;\n",
              "      --disabled-bg-color: #DDD;\n",
              "  }\n",
              "\n",
              "  [theme=dark] .colab-df-quickchart {\n",
              "      --bg-color: #3B4455;\n",
              "      --fill-color: #D2E3FC;\n",
              "      --hover-bg-color: #434B5C;\n",
              "      --hover-fill-color: #FFFFFF;\n",
              "      --disabled-bg-color: #3B4455;\n",
              "      --disabled-fill-color: #666;\n",
              "  }\n",
              "\n",
              "  .colab-df-quickchart {\n",
              "    background-color: var(--bg-color);\n",
              "    border: none;\n",
              "    border-radius: 50%;\n",
              "    cursor: pointer;\n",
              "    display: none;\n",
              "    fill: var(--fill-color);\n",
              "    height: 32px;\n",
              "    padding: 0;\n",
              "    width: 32px;\n",
              "  }\n",
              "\n",
              "  .colab-df-quickchart:hover {\n",
              "    background-color: var(--hover-bg-color);\n",
              "    box-shadow: 0 1px 2px rgba(60, 64, 67, 0.3), 0 1px 3px 1px rgba(60, 64, 67, 0.15);\n",
              "    fill: var(--button-hover-fill-color);\n",
              "  }\n",
              "\n",
              "  .colab-df-quickchart-complete:disabled,\n",
              "  .colab-df-quickchart-complete:disabled:hover {\n",
              "    background-color: var(--disabled-bg-color);\n",
              "    fill: var(--disabled-fill-color);\n",
              "    box-shadow: none;\n",
              "  }\n",
              "\n",
              "  .colab-df-spinner {\n",
              "    border: 2px solid var(--fill-color);\n",
              "    border-color: transparent;\n",
              "    border-bottom-color: var(--fill-color);\n",
              "    animation:\n",
              "      spin 1s steps(1) infinite;\n",
              "  }\n",
              "\n",
              "  @keyframes spin {\n",
              "    0% {\n",
              "      border-color: transparent;\n",
              "      border-bottom-color: var(--fill-color);\n",
              "      border-left-color: var(--fill-color);\n",
              "    }\n",
              "    20% {\n",
              "      border-color: transparent;\n",
              "      border-left-color: var(--fill-color);\n",
              "      border-top-color: var(--fill-color);\n",
              "    }\n",
              "    30% {\n",
              "      border-color: transparent;\n",
              "      border-left-color: var(--fill-color);\n",
              "      border-top-color: var(--fill-color);\n",
              "      border-right-color: var(--fill-color);\n",
              "    }\n",
              "    40% {\n",
              "      border-color: transparent;\n",
              "      border-right-color: var(--fill-color);\n",
              "      border-top-color: var(--fill-color);\n",
              "    }\n",
              "    60% {\n",
              "      border-color: transparent;\n",
              "      border-right-color: var(--fill-color);\n",
              "    }\n",
              "    80% {\n",
              "      border-color: transparent;\n",
              "      border-right-color: var(--fill-color);\n",
              "      border-bottom-color: var(--fill-color);\n",
              "    }\n",
              "    90% {\n",
              "      border-color: transparent;\n",
              "      border-bottom-color: var(--fill-color);\n",
              "    }\n",
              "  }\n",
              "</style>\n",
              "\n",
              "  <script>\n",
              "    async function quickchart(key) {\n",
              "      const quickchartButtonEl =\n",
              "        document.querySelector('#' + key + ' button');\n",
              "      quickchartButtonEl.disabled = true;  // To prevent multiple clicks.\n",
              "      quickchartButtonEl.classList.add('colab-df-spinner');\n",
              "      try {\n",
              "        const charts = await google.colab.kernel.invokeFunction(\n",
              "            'suggestCharts', [key], {});\n",
              "      } catch (error) {\n",
              "        console.error('Error during call to suggestCharts:', error);\n",
              "      }\n",
              "      quickchartButtonEl.classList.remove('colab-df-spinner');\n",
              "      quickchartButtonEl.classList.add('colab-df-quickchart-complete');\n",
              "    }\n",
              "    (() => {\n",
              "      let quickchartButtonEl =\n",
              "        document.querySelector('#df-eb8b3930-032b-4f18-aef7-07f14b3cef0b button');\n",
              "      quickchartButtonEl.style.display =\n",
              "        google.colab.kernel.accessAllowed ? 'block' : 'none';\n",
              "    })();\n",
              "  </script>\n",
              "</div>\n",
              "    </div>\n",
              "  </div>\n"
            ]
          },
          "metadata": {},
          "execution_count": 131
        }
      ]
    },
    {
      "cell_type": "code",
      "metadata": {
        "id": "eYPWbWLBqkN7"
      },
      "source": [
        "import pickle\n",
        "# Writing different model files to file\n",
        "with open( '/content/modelForPrediction_final.sav', 'wb') as f:\n",
        "    pickle.dump(model,f)"
      ],
      "execution_count": 132,
      "outputs": []
    },
    {
      "cell_type": "code",
      "metadata": {
        "colab": {
          "base_uri": "https://localhost:8080/"
        },
        "id": "dw0IfunzvqtV",
        "outputId": "19fb9033-145e-417f-dfa1-12542aa22ca8"
      },
      "source": [
        "filename = '/content/modelForPrediction_final.sav'\n",
        "loaded_model = pickle.load(open(filename, 'rb')) # loading the model file from the storage\n",
        "\n",
        "feature=extract_feature(\"/content/drive/MyDrive/Colab Notebooks/speech-emotion-recognition-ravdess-data/Actor_01/03-01-01-01-01-02-01.wav\", mfcc=True, chroma=True, mel=True)\n",
        "\n",
        "feature=feature.reshape(1,-1)\n",
        "\n",
        "prediction=loaded_model.predict(feature)\n",
        "prediction"
      ],
      "execution_count": 133,
      "outputs": [
        {
          "output_type": "execute_result",
          "data": {
            "text/plain": [
              "array(['fearful'], dtype='<U7')"
            ]
          },
          "metadata": {},
          "execution_count": 133
        }
      ]
    },
    {
      "cell_type": "code",
      "metadata": {
        "id": "grRD5MrTxOaL",
        "colab": {
          "base_uri": "https://localhost:8080/"
        },
        "outputId": "c44c73cd-7a91-4dd9-f514-790424e4db0d"
      },
      "source": [
        "feature"
      ],
      "execution_count": 24,
      "outputs": [
        {
          "output_type": "execute_result",
          "data": {
            "text/plain": [
              "array([[-6.93497009e+02,  5.00643921e+01,  5.71450531e-01,\n",
              "         1.43299656e+01,  3.33637071e+00, -2.54071975e+00,\n",
              "        -4.05790949e+00, -1.07119999e+01, -7.29413939e+00,\n",
              "         1.74018872e+00, -4.19064236e+00,  1.95466173e+00,\n",
              "        -5.24789381e+00,  2.78142977e+00, -3.16756773e+00,\n",
              "        -3.40008307e+00, -2.37803197e+00, -5.68717539e-01,\n",
              "        -6.47753334e+00, -1.24320555e+00, -2.80542517e+00,\n",
              "        -5.43635798e+00, -4.46875393e-01, -3.63516593e+00,\n",
              "        -2.98372602e+00, -5.63902557e-01, -1.65101993e+00,\n",
              "        -5.55944741e-01, -3.41018438e+00, -2.24465466e+00,\n",
              "        -3.13058877e+00, -2.70089960e+00, -1.88821292e+00,\n",
              "        -5.54154456e-01, -3.96459913e+00, -2.13485193e+00,\n",
              "        -3.94577074e+00, -1.62457860e+00, -2.03990698e+00,\n",
              "        -3.62910867e+00,  6.33734703e-01,  6.48760676e-01,\n",
              "         6.21744275e-01,  6.34553194e-01,  6.60345614e-01,\n",
              "         6.60463989e-01,  7.00949013e-01,  7.31556356e-01,\n",
              "         7.46921539e-01,  7.23420441e-01,  7.16119647e-01,\n",
              "         6.30602837e-01,  6.52830522e-07,  2.22643266e-05,\n",
              "         8.42613052e-04,  1.37719270e-02,  2.83742324e-02,\n",
              "         3.12111378e-02,  8.02663807e-03,  3.56961833e-03,\n",
              "         2.32551787e-02,  2.45211683e-02,  1.87926665e-02,\n",
              "         2.44478174e-02,  1.16031338e-02,  8.60342197e-03,\n",
              "         6.71913056e-03,  9.94843338e-03,  1.89656094e-02,\n",
              "         5.04483357e-02,  4.14051339e-02,  9.96424630e-03,\n",
              "         9.64601431e-03,  1.54170115e-02,  4.05186079e-02,\n",
              "         2.10739672e-02,  2.12946697e-03,  2.76945531e-03,\n",
              "         5.57055743e-03,  1.91831719e-02,  1.36224311e-02,\n",
              "         1.21960300e-03,  6.94197835e-04,  8.96891870e-04,\n",
              "         8.47186951e-04,  3.62369756e-04,  2.21950642e-04,\n",
              "         1.40306875e-04,  2.73740763e-04,  3.75907082e-04,\n",
              "         8.28741526e-04,  8.59786058e-04,  6.12733071e-04,\n",
              "         3.95248993e-04,  2.20409798e-04,  3.04378307e-04,\n",
              "         1.89061835e-03,  1.24956470e-03,  1.03854900e-03,\n",
              "         2.60822102e-03,  3.86649882e-03,  4.33528004e-03,\n",
              "         9.54611111e-04,  4.93530591e-04,  4.47093364e-04,\n",
              "         8.03626666e-04,  7.09871238e-04,  3.92192771e-04,\n",
              "         6.18621008e-04,  9.43593972e-04,  7.60865514e-04,\n",
              "         7.23498932e-04,  1.00387214e-03,  9.19646351e-04,\n",
              "         8.18870671e-04,  5.08129189e-04,  4.11667366e-04,\n",
              "         4.03237646e-04,  1.48571402e-04,  6.84264640e-04,\n",
              "         1.38615607e-03,  2.92808865e-04,  5.09449237e-05,\n",
              "         7.45297148e-05,  1.39878655e-04,  8.93816250e-05,\n",
              "         1.35135124e-04,  1.09651715e-04,  2.46569631e-04,\n",
              "         7.43343204e-04,  4.77164402e-04,  6.96408853e-04,\n",
              "         4.74705710e-04,  2.55434716e-04,  1.59143689e-04,\n",
              "         8.08707482e-05,  9.79213364e-05,  8.84003894e-05,\n",
              "         9.75710209e-05,  1.17046940e-04,  1.84339995e-04,\n",
              "         1.69435385e-04,  2.55546009e-04,  2.40519148e-04,\n",
              "         4.28831205e-04,  2.98486266e-04,  4.27471416e-04,\n",
              "         1.06324660e-04,  5.85673406e-05,  2.31044742e-05,\n",
              "         8.89405237e-06,  1.98013931e-05,  1.09333178e-05,\n",
              "         3.66455424e-05,  3.68459878e-05,  5.25096366e-05,\n",
              "         3.77127617e-05,  8.86667185e-05,  7.79374823e-05,\n",
              "         4.24979553e-05,  6.51855808e-05,  3.53608302e-05,\n",
              "         2.41367925e-05,  2.45215579e-05,  2.89214531e-05,\n",
              "         3.95157222e-05,  2.72971338e-05,  1.96686051e-05,\n",
              "         1.51977429e-05,  1.06007192e-05,  7.99631744e-06,\n",
              "         6.07571883e-06,  4.48540641e-06,  4.12061945e-06,\n",
              "         3.71885676e-06,  3.93320988e-06,  3.48488379e-06,\n",
              "         4.07551670e-06,  1.81608038e-06,  7.83327664e-07]])"
            ]
          },
          "metadata": {},
          "execution_count": 24
        }
      ]
    }
  ]
}